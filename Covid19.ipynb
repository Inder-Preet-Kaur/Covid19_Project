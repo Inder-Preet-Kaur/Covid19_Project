{
  "nbformat": 4,
  "nbformat_minor": 0,
  "metadata": {
    "colab": {
      "name": "Covid19.ipynb",
      "provenance": [],
      "collapsed_sections": [],
      "authorship_tag": "ABX9TyOefPUm4GndPVEKZev65O2/",
      "include_colab_link": true
    },
    "kernelspec": {
      "name": "python3",
      "display_name": "Python 3"
    },
    "language_info": {
      "name": "python"
    }
  },
  "cells": [
    {
      "cell_type": "markdown",
      "metadata": {
        "id": "view-in-github",
        "colab_type": "text"
      },
      "source": [
        "<a href=\"https://colab.research.google.com/github/Inder-Preet-Kaur/Covid19_Project/blob/main/Covid19.ipynb\" target=\"_parent\"><img src=\"https://colab.research.google.com/assets/colab-badge.svg\" alt=\"Open In Colab\"/></a>"
      ]
    },
    {
      "cell_type": "code",
      "metadata": {
        "id": "gHzliZUAerpw"
      },
      "source": [
        "from google.colab import drive"
      ],
      "execution_count": 2,
      "outputs": []
    },
    {
      "cell_type": "code",
      "metadata": {
        "id": "vGSv09-Ydi3O",
        "colab": {
          "base_uri": "https://localhost:8080/"
        },
        "outputId": "4962fa0d-d038-4c9a-fadf-62f28cc850f8"
      },
      "source": [
        "drive.mount(\"/content/gdrive\")"
      ],
      "execution_count": 3,
      "outputs": [
        {
          "output_type": "stream",
          "name": "stdout",
          "text": [
            "Mounted at /content/gdrive\n"
          ]
        }
      ]
    },
    {
      "cell_type": "code",
      "metadata": {
        "id": "HdFoJbGte_Kq"
      },
      "source": [
        "import pandas as pd"
      ],
      "execution_count": 19,
      "outputs": []
    },
    {
      "cell_type": "code",
      "metadata": {
        "colab": {
          "base_uri": "https://localhost:8080/",
          "height": 759
        },
        "id": "DP_3niQae5YY",
        "outputId": "f28bf079-b0fe-449a-972d-0d6645c63f79"
      },
      "source": [
        "df=pd.read_csv('/content/gdrive/MyDrive/Canada.csv')\n",
        "df"
      ],
      "execution_count": 20,
      "outputs": [
        {
          "output_type": "execute_result",
          "data": {
            "text/html": [
              "<div>\n",
              "<style scoped>\n",
              "    .dataframe tbody tr th:only-of-type {\n",
              "        vertical-align: middle;\n",
              "    }\n",
              "\n",
              "    .dataframe tbody tr th {\n",
              "        vertical-align: top;\n",
              "    }\n",
              "\n",
              "    .dataframe thead th {\n",
              "        text-align: right;\n",
              "    }\n",
              "</style>\n",
              "<table border=\"1\" class=\"dataframe\">\n",
              "  <thead>\n",
              "    <tr style=\"text-align: right;\">\n",
              "      <th></th>\n",
              "      <th>date</th>\n",
              "      <th>total_vaccinations</th>\n",
              "      <th>people_fully_vaccinated</th>\n",
              "      <th>total_boosters</th>\n",
              "      <th>people_vaccinated</th>\n",
              "      <th>location</th>\n",
              "      <th>source_url</th>\n",
              "      <th>vaccine</th>\n",
              "    </tr>\n",
              "  </thead>\n",
              "  <tbody>\n",
              "    <tr>\n",
              "      <th>0</th>\n",
              "      <td>2020-12-14</td>\n",
              "      <td>5</td>\n",
              "      <td>0</td>\n",
              "      <td>0</td>\n",
              "      <td>5</td>\n",
              "      <td>Canada</td>\n",
              "      <td>https://covid19tracker.ca/vaccinationtracker.html</td>\n",
              "      <td>Moderna, Oxford/AstraZeneca, Pfizer/BioNTech</td>\n",
              "    </tr>\n",
              "    <tr>\n",
              "      <th>1</th>\n",
              "      <td>2020-12-15</td>\n",
              "      <td>727</td>\n",
              "      <td>0</td>\n",
              "      <td>0</td>\n",
              "      <td>727</td>\n",
              "      <td>Canada</td>\n",
              "      <td>https://covid19tracker.ca/vaccinationtracker.html</td>\n",
              "      <td>Moderna, Oxford/AstraZeneca, Pfizer/BioNTech</td>\n",
              "    </tr>\n",
              "    <tr>\n",
              "      <th>2</th>\n",
              "      <td>2020-12-16</td>\n",
              "      <td>3015</td>\n",
              "      <td>0</td>\n",
              "      <td>0</td>\n",
              "      <td>3015</td>\n",
              "      <td>Canada</td>\n",
              "      <td>https://covid19tracker.ca/vaccinationtracker.html</td>\n",
              "      <td>Moderna, Oxford/AstraZeneca, Pfizer/BioNTech</td>\n",
              "    </tr>\n",
              "    <tr>\n",
              "      <th>3</th>\n",
              "      <td>2020-12-17</td>\n",
              "      <td>7266</td>\n",
              "      <td>0</td>\n",
              "      <td>0</td>\n",
              "      <td>7266</td>\n",
              "      <td>Canada</td>\n",
              "      <td>https://covid19tracker.ca/vaccinationtracker.html</td>\n",
              "      <td>Moderna, Oxford/AstraZeneca, Pfizer/BioNTech</td>\n",
              "    </tr>\n",
              "    <tr>\n",
              "      <th>4</th>\n",
              "      <td>2020-12-18</td>\n",
              "      <td>11274</td>\n",
              "      <td>0</td>\n",
              "      <td>0</td>\n",
              "      <td>11274</td>\n",
              "      <td>Canada</td>\n",
              "      <td>https://covid19tracker.ca/vaccinationtracker.html</td>\n",
              "      <td>Moderna, Oxford/AstraZeneca, Pfizer/BioNTech</td>\n",
              "    </tr>\n",
              "    <tr>\n",
              "      <th>...</th>\n",
              "      <td>...</td>\n",
              "      <td>...</td>\n",
              "      <td>...</td>\n",
              "      <td>...</td>\n",
              "      <td>...</td>\n",
              "      <td>...</td>\n",
              "      <td>...</td>\n",
              "      <td>...</td>\n",
              "    </tr>\n",
              "    <tr>\n",
              "      <th>317</th>\n",
              "      <td>2021-10-27</td>\n",
              "      <td>58428432</td>\n",
              "      <td>28144619</td>\n",
              "      <td>511618</td>\n",
              "      <td>29772195</td>\n",
              "      <td>Canada</td>\n",
              "      <td>https://covid19tracker.ca/vaccinationtracker.html</td>\n",
              "      <td>Moderna, Oxford/AstraZeneca, Pfizer/BioNTech</td>\n",
              "    </tr>\n",
              "    <tr>\n",
              "      <th>318</th>\n",
              "      <td>2021-10-28</td>\n",
              "      <td>58511813</td>\n",
              "      <td>28185778</td>\n",
              "      <td>528738</td>\n",
              "      <td>29797297</td>\n",
              "      <td>Canada</td>\n",
              "      <td>https://covid19tracker.ca/vaccinationtracker.html</td>\n",
              "      <td>Moderna, Oxford/AstraZeneca, Pfizer/BioNTech</td>\n",
              "    </tr>\n",
              "    <tr>\n",
              "      <th>319</th>\n",
              "      <td>2021-10-29</td>\n",
              "      <td>58589032</td>\n",
              "      <td>28225947</td>\n",
              "      <td>539126</td>\n",
              "      <td>29823959</td>\n",
              "      <td>Canada</td>\n",
              "      <td>https://covid19tracker.ca/vaccinationtracker.html</td>\n",
              "      <td>Moderna, Oxford/AstraZeneca, Pfizer/BioNTech</td>\n",
              "    </tr>\n",
              "    <tr>\n",
              "      <th>320</th>\n",
              "      <td>2021-10-30</td>\n",
              "      <td>58629704</td>\n",
              "      <td>28250376</td>\n",
              "      <td>544017</td>\n",
              "      <td>29835311</td>\n",
              "      <td>Canada</td>\n",
              "      <td>https://covid19tracker.ca/vaccinationtracker.html</td>\n",
              "      <td>Moderna, Oxford/AstraZeneca, Pfizer/BioNTech</td>\n",
              "    </tr>\n",
              "    <tr>\n",
              "      <th>321</th>\n",
              "      <td>2021-10-31</td>\n",
              "      <td>58663274</td>\n",
              "      <td>28272392</td>\n",
              "      <td>545539</td>\n",
              "      <td>29845343</td>\n",
              "      <td>Canada</td>\n",
              "      <td>https://covid19tracker.ca/vaccinationtracker.html</td>\n",
              "      <td>Moderna, Oxford/AstraZeneca, Pfizer/BioNTech</td>\n",
              "    </tr>\n",
              "  </tbody>\n",
              "</table>\n",
              "<p>322 rows × 8 columns</p>\n",
              "</div>"
            ],
            "text/plain": [
              "           date  ...                                       vaccine\n",
              "0    2020-12-14  ...  Moderna, Oxford/AstraZeneca, Pfizer/BioNTech\n",
              "1    2020-12-15  ...  Moderna, Oxford/AstraZeneca, Pfizer/BioNTech\n",
              "2    2020-12-16  ...  Moderna, Oxford/AstraZeneca, Pfizer/BioNTech\n",
              "3    2020-12-17  ...  Moderna, Oxford/AstraZeneca, Pfizer/BioNTech\n",
              "4    2020-12-18  ...  Moderna, Oxford/AstraZeneca, Pfizer/BioNTech\n",
              "..          ...  ...                                           ...\n",
              "317  2021-10-27  ...  Moderna, Oxford/AstraZeneca, Pfizer/BioNTech\n",
              "318  2021-10-28  ...  Moderna, Oxford/AstraZeneca, Pfizer/BioNTech\n",
              "319  2021-10-29  ...  Moderna, Oxford/AstraZeneca, Pfizer/BioNTech\n",
              "320  2021-10-30  ...  Moderna, Oxford/AstraZeneca, Pfizer/BioNTech\n",
              "321  2021-10-31  ...  Moderna, Oxford/AstraZeneca, Pfizer/BioNTech\n",
              "\n",
              "[322 rows x 8 columns]"
            ]
          },
          "metadata": {},
          "execution_count": 20
        }
      ]
    },
    {
      "cell_type": "code",
      "metadata": {
        "id": "YYccCOGGfJ5-"
      },
      "source": [
        "df.drop('source_url', axis=1, inplace=True)\n",
        "#remove extra coloumns"
      ],
      "execution_count": 21,
      "outputs": []
    },
    {
      "cell_type": "code",
      "metadata": {
        "id": "eJX3mV7JfTgG"
      },
      "source": [
        "import matplotlib.pyplot as plt\n",
        "import numpy as np"
      ],
      "execution_count": 22,
      "outputs": []
    },
    {
      "cell_type": "code",
      "metadata": {
        "colab": {
          "base_uri": "https://localhost:8080/",
          "height": 294
        },
        "id": "RgVxKCy_fahJ",
        "outputId": "6f1d1139-51f0-4821-989d-ebbd4aec9e9e"
      },
      "source": [
        "df.boxplot(column=['total_vaccinations'])\n",
        "#to check outliers"
      ],
      "execution_count": 23,
      "outputs": [
        {
          "output_type": "execute_result",
          "data": {
            "text/plain": [
              "<matplotlib.axes._subplots.AxesSubplot at 0x7ff9aeb169d0>"
            ]
          },
          "metadata": {},
          "execution_count": 23
        },
        {
          "output_type": "display_data",
          "data": {
            "image/png": "[encoded data removed]",
            "text/plain": [
              "<Figure size 432x288 with 1 Axes>"
            ]
          },
          "metadata": {
            "needs_background": "light"
          }
        }
      ]
    },
    {
      "cell_type": "code",
      "metadata": {
        "colab": {
          "base_uri": "https://localhost:8080/",
          "height": 294
        },
        "id": "93kfcW9gfg7C",
        "outputId": "f968c73b-f13b-4e6b-967b-d8ca17a0bb0a"
      },
      "source": [
        "df1=pd.read_csv('/content/gdrive/MyDrive/Ukraine.csv')\n",
        "df1[\"total_boosters\"].fillna(\"0\", inplace = True)\n",
        "df1\n",
        "df1.drop('source_url', axis=1, inplace=True)\n",
        "df1.boxplot(column=['total_vaccinations'])"
      ],
      "execution_count": 26,
      "outputs": [
        {
          "output_type": "execute_result",
          "data": {
            "text/plain": [
              "<matplotlib.axes._subplots.AxesSubplot at 0x7ff9aeaa4550>"
            ]
          },
          "metadata": {},
          "execution_count": 26
        },
        {
          "output_type": "display_data",
          "data": {
            "image/png": "[encoded data removed]",
            "text/plain": [
              "<Figure size 432x288 with 1 Axes>"
            ]
          },
          "metadata": {
            "needs_background": "light"
          }
        }
      ]
    },
    {
      "cell_type": "code",
      "metadata": {
        "colab": {
          "base_uri": "https://localhost:8080/",
          "height": 294
        },
        "id": "sReBobiOkPev",
        "outputId": "1331e3d0-81a0-4bbb-f544-11abb59c754a"
      },
      "source": [
        "df2=pd.read_csv('/content/gdrive/MyDrive/India.csv')\n",
        "df2.drop('source_url', axis=1, inplace=True)\n",
        "#filling missing values\n",
        "df2[\"total_boosters\"].fillna(\"0\", inplace = True)\n",
        "df2\n",
        "df.boxplot(column=['total_vaccinations'])"
      ],
      "execution_count": 27,
      "outputs": [
        {
          "output_type": "execute_result",
          "data": {
            "text/plain": [
              "<matplotlib.axes._subplots.AxesSubplot at 0x7ff9aea0e410>"
            ]
          },
          "metadata": {},
          "execution_count": 27
        },
        {
          "output_type": "display_data",
          "data": {
            "image/png": "[encoded data removed]",
            "text/plain": [
              "<Figure size 432x288 with 1 Axes>"
            ]
          },
          "metadata": {
            "needs_background": "light"
          }
        }
      ]
    },
    {
      "cell_type": "code",
      "metadata": {
        "colab": {
          "base_uri": "https://localhost:8080/",
          "height": 294
        },
        "id": "a4mF50m8lbD-",
        "outputId": "e2ed855a-286d-43de-c88c-bb17cd91c5f8"
      },
      "source": [
        "df3=pd.read_csv('/content/gdrive/MyDrive/US.csv')\n",
        "df3.drop('source_url', axis=1, inplace=True)\n",
        "df3\n",
        "df3.boxplot(column=['total_vaccinations'])"
      ],
      "execution_count": 31,
      "outputs": [
        {
          "output_type": "execute_result",
          "data": {
            "text/plain": [
              "<matplotlib.axes._subplots.AxesSubplot at 0x7ff9aee6ff90>"
            ]
          },
          "metadata": {},
          "execution_count": 31
        },
        {
          "output_type": "display_data",
          "data": {
            "image/png": "[encoded data removed]",
            "text/plain": [
              "<Figure size 432x288 with 1 Axes>"
            ]
          },
          "metadata": {
            "needs_background": "light"
          }
        }
      ]
    }
  ]
}